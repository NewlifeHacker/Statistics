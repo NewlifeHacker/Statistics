{
 "cells": [
  {
   "cell_type": "markdown",
   "metadata": {},
   "source": [
    "## Лабораторная работа 2 \n",
    "## \"Построение доверительных интервалов\""
   ]
  },
  {
   "cell_type": "markdown",
   "metadata": {},
   "source": [
    "#### Задача\n",
    "- Построить доверительный интервал для матиматического ожидания и дисперсии считая что случайная величина распределена нормально"
   ]
  },
  {
   "cell_type": "code",
   "execution_count": 22,
   "metadata": {},
   "outputs": [],
   "source": [
    "import numpy as np\n",
    "import statistics\n",
    "from scipy import stats\n",
    "import matplotlib.pyplot as plt\n"
   ]
  },
  {
   "cell_type": "code",
   "execution_count": 23,
   "metadata": {},
   "outputs": [],
   "source": [
    "Pron = [83.8903, 108.1415, 163.6959, 100.1789, 75.4938, 29.2414, 33.3903,\n",
    "     34.0944, 16.6437, 25.7459, 147.2564, 145.0315, 140.6969, 232.7385,\n",
    "     168.9838, 200.3236, 178.0021, 31.5438, 14.2295, 16.9853]\n",
    "\n",
    "Por = [0.2636, 0.2588, 0.2694, 0.2663, 0.2581, 0.2533, 0.2413, 0.2382,\n",
    "       0.1837, 0.1609, 0.1775, 0.1806, 0.1734, 0.1785, 0.1827, 0.1793,\n",
    "       0.1744, 0.1292, 0.1306, 0.1355]\n",
    "\n",
    "Pron = np.array(Pron)\n",
    "Por = np.array(Por)\n"
   ]
  },
  {
   "cell_type": "markdown",
   "metadata": {},
   "source": [
    "#### Математические ожидания"
   ]
  },
  {
   "cell_type": "code",
   "execution_count": 24,
   "metadata": {},
   "outputs": [
    {
     "name": "stdout",
     "output_type": "stream",
     "text": [
      "Размер выборки -  20\n",
      "Матиматическое ожидание проницаемости 97.31537499999999\n",
      "Матиматическое ожидание пористости 0.20176499999999997\n"
     ]
    }
   ],
   "source": [
    "Lenght  = Pron.size # длинна выборки\n",
    "SExpectation_Pron = np.mean(Pron) # мат ожидание проницаемости\n",
    "SExpectation_Por = np.mean(Por) # мат ожидание пористости\n",
    "\n",
    "print('Размер выборки - ',Lenght)\n",
    "print('Матиматическое ожидание проницаемости', SExpectation_Pron) # выборочная средняя\n",
    "print('Матиматическое ожидание пористости',SExpectation_Por) # выборочная средняя"
   ]
  },
  {
   "cell_type": "markdown",
   "metadata": {},
   "source": [
    "#### Дисперсия и среднеквадратичное отклонение"
   ]
  },
  {
   "cell_type": "code",
   "execution_count": 25,
   "metadata": {},
   "outputs": [
    {
     "name": "stdout",
     "output_type": "stream",
     "text": [
      "Дисперсия проницаемости - 4723.373867927875, Среднеквадратическое отклонение - 68.72680603613028\n",
      "Дисперсия пористости - 0.0022626442749999996, Среднеквадратическое отклонение - 0.04756726053705426\n"
     ]
    }
   ],
   "source": [
    "SVar_Pron = np.var(Pron) # дисперсия проницаемости\n",
    "SVar_Por = np.var(Por) # дисперсия пористости\n",
    "Std_Pron = np.std(Pron)# Среднеквадратичное отклонение проницаемости\n",
    "Std_Por = np.std(Por)# Среднеквадратичное отклонение пористости\n",
    "\n",
    "\n",
    "print('Дисперсия проницаемости - {0}, Среднеквадратическое отклонение - {1}'.format(SVar_Pron,Std_Pron))\n",
    "print('Дисперсия пористости - {0}, Среднеквадратическое отклонение - {1}'.format(SVar_Por,Std_Por))\n"
   ]
  },
  {
   "cell_type": "code",
   "execution_count": 26,
   "metadata": {},
   "outputs": [],
   "source": [
    "gamma = 0.95 # Доверительная вероятность\n",
    "koeff = 1.7291 # Коэффицент стьюдента( коэффицент доверия)"
   ]
  },
  {
   "cell_type": "markdown",
   "metadata": {},
   "source": [
    "#### Коэффицент стюдента\n",
    "Степеней свободы k = Length-1 = 19 надежность (gamma) =0.95 следовательно из таблицы коэффициент стьюдента равен 1.7291\n",
    "\n",
    "Точность оценки  и доверительный интервал равны, где X_в - выборочная средняя\n",
    "\\begin{align}\n",
    "δ = \\frac{t_y σ} {\\sqrt n}\n",
    "\\\\\n",
    "[X_в -δ ;X_в +δ ]\n",
    "\\end{align}\n",
    "\n"
   ]
  },
  {
   "cell_type": "markdown",
   "metadata": {},
   "source": [
    "##### Доверительный интервал для мат ожидания"
   ]
  },
  {
   "cell_type": "code",
   "execution_count": 27,
   "metadata": {},
   "outputs": [
    {
     "name": "stdout",
     "output_type": "stream",
     "text": [
      "Доверительный интерсвал для мат. ожидания проницаемости - [70.74294484294676, 123.88780515705322]\n",
      "Доверительный интерсвал для мат. ожидания пористости- [0.18337366507140246, 0.22015633492859749]\n"
     ]
    }
   ],
   "source": [
    "\n",
    "M_inter_pron = [SExpectation_Pron- (koeff*Std_Pron)/Lenght**(1/2),SExpectation_Pron+ (koeff*Std_Pron)/Lenght**(1/2)]\n",
    "M_inter_por = [SExpectation_Por- (koeff*Std_Por)/Lenght**(1/2),SExpectation_Por+ (koeff*Std_Por)/Lenght**(1/2)]\n",
    "\n",
    "print('Доверительный интерсвал для мат. ожидания проницаемости - {0}'.format(M_inter_pron))\n",
    "print('Доверительный интерсвал для мат. ожидания пористости- {0}'.format(M_inter_por))"
   ]
  },
  {
   "cell_type": "markdown",
   "metadata": {},
   "source": [
    "##### Ширина интервала"
   ]
  },
  {
   "cell_type": "code",
   "execution_count": 28,
   "metadata": {},
   "outputs": [
    {
     "name": "stdout",
     "output_type": "stream",
     "text": [
      "Ширина доверительного интервала проницаемости -  53.14486031410647\n",
      "Ширина доверительного интервала пористоси -  0.03678266985719503\n"
     ]
    }
   ],
   "source": [
    "width1 = M_inter_pron[1]-M_inter_pron[0]\n",
    "width2 = M_inter_por[1]-M_inter_por[0]\n",
    "\n",
    "print('Ширина доверительного интервала проницаемости - ',width1)\n",
    "print('Ширина доверительного интервала пористоси - ',width2)"
   ]
  },
  {
   "cell_type": "markdown",
   "metadata": {},
   "source": [
    "##### Квантили хи квадрат распределения\n",
    "Теперь найдем квантили для хи квадрат распределения и исправленное стандартное отклонение\n",
    "\\begin{align}\n",
    "χ^2(a1,k) = 32.9\n",
    "\\\\\n",
    "χ^2(a2,k) = 8.91\n",
    "\\end{align}"
   ]
  },
  {
   "cell_type": "code",
   "execution_count": 29,
   "metadata": {},
   "outputs": [
    {
     "name": "stdout",
     "output_type": "stream",
     "text": [
      "Дисперсия проницаемости - 4971.9724925556575, Исправленное среднеквадратическое отклонение - 72.34400635382134\n",
      "Дисперсия пористости - 0.002381730815789473, Исправленное среднеквадратическое отклонение - 0.050070800565320275\n"
     ]
    }
   ],
   "source": [
    "a1 = (1-gamma)/2 \n",
    "a2 = (1+gamma)/2 \n",
    "x1 = 32.9\n",
    "x2 = 8.91\n",
    "\n",
    "Std_Pron = np.std(Pron)*(Lenght/(Lenght-1))#  Исправленное Среднеквадратичное отклонение проницаемости\n",
    "Std_Por = np.std(Por)*(Lenght/(Lenght-1))# Исправленное Среднеквадратичное отклонение пористости\n",
    "SVar_Pron = np.var(Pron)*(Lenght/(Lenght-1)) #Исправленная дисперсия проницаемости\n",
    "SVar_Por = np.var(Por)*(Lenght/(Lenght-1)) # Исправленная дисперсия пористости\n",
    "\n",
    "print('Дисперсия проницаемости - {0}, Исправленное среднеквадратическое отклонение - {1}'.format(SVar_Pron,Std_Pron))\n",
    "print('Дисперсия пористости - {0}, Исправленное среднеквадратическое отклонение - {1}'.format(SVar_Por,Std_Por))\n"
   ]
  },
  {
   "cell_type": "markdown",
   "metadata": {},
   "source": [
    "##### Доверительный интервал для диперсии\n",
    "Доверительным интервалом будет -  где s^2 исправленная дисперсия  "
   ]
  },
  {
   "cell_type": "markdown",
   "metadata": {},
   "source": [
    "\\begin{align}\n",
    "\\frac{(n-1)s^2}{χ^2(a1,k)}<σ^2<\\frac{(n-1)s^2}{χ^2(a2,k)}\n",
    "\\end{align}"
   ]
  },
  {
   "cell_type": "code",
   "execution_count": 30,
   "metadata": {},
   "outputs": [
    {
     "name": "stdout",
     "output_type": "stream",
     "text": [
      "Доверительный интерсвал для дисперсии проницаемости -  [2871.351895396884, 10602.41047795258]\n",
      "Доверительный интерсвал для дисперсии пористости -  [0.0013754676443768995, 0.005078887261503927]\n"
     ]
    }
   ],
   "source": [
    "D_inter_pron = [(Lenght-1)*SVar_Pron/x1, (Lenght-1)*SVar_Pron/x2]\n",
    "D_inter_por = [(Lenght-1)*SVar_Por/x1, (Lenght-1)*SVar_Por/x2]\n",
    "print('Доверительный интерсвал для дисперсии проницаемости - ',D_inter_pron)\n",
    "print('Доверительный интерсвал для дисперсии пористости - ',D_inter_por)"
   ]
  },
  {
   "cell_type": "markdown",
   "metadata": {},
   "source": [
    "##### Ширина доверительного интервала для дисперсии"
   ]
  },
  {
   "cell_type": "code",
   "execution_count": 31,
   "metadata": {},
   "outputs": [
    {
     "name": "stdout",
     "output_type": "stream",
     "text": [
      "Ширина доверительного интервала проницаемости -  7731.058582555696\n",
      "Ширина доверительного интервала пористоси -  0.0037034196171270273\n"
     ]
    }
   ],
   "source": [
    "width3 = D_inter_pron[1]-D_inter_pron[0]\n",
    "width4 = D_inter_por[1]-D_inter_por[0]\n",
    "\n",
    "print('Ширина доверительного интервала проницаемости - ',width3)\n",
    "print('Ширина доверительного интервала пористоси - ',width4)"
   ]
  }
 ],
 "metadata": {
  "kernelspec": {
   "display_name": "Python 3",
   "language": "python",
   "name": "python3"
  },
  "language_info": {
   "codemirror_mode": {
    "name": "ipython",
    "version": 3
   },
   "file_extension": ".py",
   "mimetype": "text/x-python",
   "name": "python",
   "nbconvert_exporter": "python",
   "pygments_lexer": "ipython3",
   "version": "3.8.2"
  }
 },
 "nbformat": 4,
 "nbformat_minor": 4
}
