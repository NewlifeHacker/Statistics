{
 "cells": [
  {
   "cell_type": "markdown",
   "metadata": {},
   "source": [
    "# Общие команды python\n",
    "\n",
    "https://github.com/jakevdp/PythonDataScienceHandbook"
   ]
  },
  {
   "cell_type": "markdown",
   "metadata": {},
   "source": [
    "### Команда %timeit и %%timeit используется для определения времени  выпонения программы, два знака используются для многострочных команд"
   ]
  },
  {
   "cell_type": "markdown",
   "metadata": {},
   "source": [
    "%time — длительность выполнения отдельного оператора;\n",
    "%timeit — длительность выполнения отдельного оператора при неоднократном\n",
    "повторе, для большей точности;\n",
    "%prun — выполнение кода с использованием профилировщика;\n",
    "%lprun — пошаговое выполнение кода с применением профилировщика;\n",
    "%memit — оценка использования оперативной памяти для отдельного опера- тора;\n",
    "%mprun — пошаговое выполнение кода с применением профилировщика па- мяти"
   ]
  },
  {
   "cell_type": "code",
   "execution_count": 11,
   "metadata": {},
   "outputs": [
    {
     "name": "stdout",
     "output_type": "stream",
     "text": [
      "6.02 µs ± 44.7 ns per loop (mean ± std. dev. of 7 runs, 100000 loops each)\n"
     ]
    }
   ],
   "source": [
    "%%timeit\n",
    "a =10;\n",
    "for i in range(100):\n",
    "    a +=a\n",
    "    \n",
    "%timeit 10**21"
   ]
  },
  {
   "cell_type": "code",
   "execution_count": 24,
   "metadata": {},
   "outputs": [
    {
     "name": "stdout",
     "output_type": "stream",
     "text": [
      "CPU times: user 4 µs, sys: 1 µs, total: 5 µs\n",
      "Wall time: 9.06 µs\n"
     ]
    },
    {
     "data": {
      "text/plain": [
       "1000000000000000000000"
      ]
     },
     "execution_count": 24,
     "metadata": {},
     "output_type": "execute_result"
    }
   ],
   "source": [
    "%time 10**21"
   ]
  },
  {
   "cell_type": "code",
   "execution_count": 15,
   "metadata": {},
   "outputs": [
    {
     "name": "stdout",
     "output_type": "stream",
     "text": [
      "['', \"get_ipython().run_cell_magic('timeit', '', 'for i in range(100):\\\\n    print(i\\\\n')\", \"get_ipython().run_cell_magic('timeit', '', 'for i in range(100):\\\\n    print(i)\\\\n')\", \"get_ipython().run_cell_magic('timeit', '', 'for i in range(100):\\\\n    print(i)\\\\n')\", \"get_ipython().run_cell_magic('timeit', '', 'for i in range(10):\\\\n    print(i)\\\\n')\", \"get_ipython().run_cell_magic('timeit', '', 'a =10;\\\\nfor i in range(100):\\\\n    a +=a\\\\n')\", 'get_ipython().run_cell_magic(\\'timeit\\', \\'\\', \\'a =10;\\\\nfor i in range(100):\\\\n    a +=a\\\\n    \\\\n%timeit print(\"r\")\\\\n\\')', \"get_ipython().run_cell_magic('timeit', '', 'a =10;\\\\nfor i in range(100):\\\\n    a +=a\\\\n    \\\\n')\", \"get_ipython().run_cell_magic('timeit', '', 'a =10;\\\\nfor i in range(100):\\\\n    a +=a\\\\n    \\\\n%timeit 10**21\\\\n')\", \"get_ipython().run_cell_magic('timeit', '', 'a =10;\\\\nfor i in range(100):\\\\n    a +=a\\\\n    \\\\n')\", \"get_ipython().run_line_magic('timeit', '10**21')\", \"get_ipython().run_cell_magic('timeit', '', 'a =10;\\\\nfor i in range(100):\\\\n    a +=a\\\\n    \\\\n')\", \"get_ipython().run_line_magic('timeit', '10**21')\", 'print(in)', 'print(In)', 'print(In)\\nprint(Out)']\n",
      "{}\n"
     ]
    }
   ],
   "source": [
    "# выводят объекты выхода и входа можно выводить последовательность выхода In[1]\n",
    "print(In)\n",
    "print(Out)"
   ]
  },
  {
   "cell_type": "code",
   "execution_count": 20,
   "metadata": {},
   "outputs": [
    {
     "data": {
      "text/plain": [
       "314"
      ]
     },
     "execution_count": 20,
     "metadata": {},
     "output_type": "execute_result"
    }
   ],
   "source": [
    "10+304"
   ]
  },
  {
   "cell_type": "code",
   "execution_count": 21,
   "metadata": {},
   "outputs": [
    {
     "name": "stdout",
     "output_type": "stream",
     "text": [
      "314\n"
     ]
    }
   ],
   "source": [
    "# предыдущий вывод  так же можно вывести выовод двумя способами Out[2] _2   Out[X] _X\n",
    "print(_)"
   ]
  },
  {
   "cell_type": "code",
   "execution_count": 22,
   "metadata": {},
   "outputs": [
    {
     "data": {
      "text/plain": [
       "['/Users/newlife/Desktop']"
      ]
     },
     "execution_count": 22,
     "metadata": {},
     "output_type": "execute_result"
    }
   ],
   "source": [
    "# можно работать с любыми командыми шела !ls !pwd \n",
    "directory = !pwd\n",
    "directory"
   ]
  },
  {
   "cell_type": "code",
   "execution_count": null,
   "metadata": {},
   "outputs": [],
   "source": [
    "# Отладка\n",
    "#Если вам необходимо, чтобы отладчик запускался автоматически при \n",
    "#генерации исключения, можно воспользоваться «магической» функцией\n",
    "#%pdb для включения такого автоматического поведения:\n",
    "%debug\n"
   ]
  },
  {
   "cell_type": "markdown",
   "metadata": {},
   "source": [
    "#### Количество занимаемой памяти программой % memit %mprun(работает для функций только)"
   ]
  },
  {
   "cell_type": "code",
   "execution_count": 30,
   "metadata": {},
   "outputs": [
    {
     "name": "stdout",
     "output_type": "stream",
     "text": [
      "The memory_profiler extension is already loaded. To reload it, use:\n",
      "  %reload_ext memory_profiler\n",
      "peak memory: 77.61 MiB, increment: 0.00 MiB\n",
      "\n"
     ]
    }
   ],
   "source": [
    "#\n",
    "%load_ext memory_profiler\n",
    "%memit 21**2\n",
    "%mprun 21**212\n"
   ]
  },
  {
   "cell_type": "markdown",
   "metadata": {},
   "source": [
    "# Numpy \n"
   ]
  },
  {
   "cell_type": "code",
   "execution_count": 63,
   "metadata": {},
   "outputs": [],
   "source": [
    "import numpy as np"
   ]
  },
  {
   "cell_type": "markdown",
   "metadata": {},
   "source": [
    "### Numpy гораздо эффективнее хранит и работает с данными, так как не могут быть в массиве разные типы данных как в list\n",
    "\n",
    "## Создание массивов"
   ]
  },
  {
   "cell_type": "code",
   "execution_count": 64,
   "metadata": {},
   "outputs": [
    {
     "data": {
      "text/plain": [
       "array([[2, 3, 4],\n",
       "       [4, 5, 6],\n",
       "       [6, 7, 8]])"
      ]
     },
     "execution_count": 64,
     "metadata": {},
     "output_type": "execute_result"
    }
   ],
   "source": [
    "# массив целочисленных значений: \n",
    "np.array([1, 4, 2, 5, 3])\n",
    "# можно задать опредленный тип данных\n",
    "np.array([1, 2, 3, 4], dtype='float32')\n",
    "\n",
    "# Вложенные списки преобразуются в многомерный массив \n",
    "np.array([range(i, i + 3) for i in [2, 4, 6]])"
   ]
  },
  {
   "cell_type": "code",
   "execution_count": null,
   "metadata": {},
   "outputs": [],
   "source": [
    "# Создаем массив целых чисел длины 10, заполненный нулями (нулевой массив)\n",
    "np.zeros(10, dtype=int)\n",
    "\n",
    "# Создаем массив размером 3 x 5 значений с плавающей точкой, # заполненный единицами\n",
    "np.ones((3, 5), dtype=float)\n",
    "\n",
    "# Создаем массив размером 3 x 5, заполненный значением 3.14 \n",
    "np.full((3, 5), 3.14)\n",
    "\n",
    "# Создаем массив, заполненный линейной последовательностью, # начинающейся с 0 и заканчивающейся 20, с шагом 2\n",
    "# (аналогично встроенной функции range())\n",
    "np.arange(0, 20, 2)\n",
    "\n",
    "# Создаем массив из пяти значений,\n",
    "# равномерно располагающихся между 0 и 1 \n",
    "np.linspace(0, 1, 5)\n",
    "\n",
    "# Создаем массив размером 3 x 3 равномерно распределенных\n",
    "# случайных значения от 0 до 1\n",
    "np.random.random((3, 3))\n",
    "\n",
    "# Создаем массив размером 3 x 3 нормально распределенных\n",
    "# случайных значения с медианой 0 и стандартным отклонением 1 \n",
    "np.random.normal(0, 1, (3, 3))\n",
    "\n",
    "# Создаем массив размером 3 x 3 случайных целых числа # в промежутке [0, 10)\n",
    "np.random.randint(0, 10, (3, 3))\n",
    "\n",
    "# Создаем единичную матрицу размером 3 x 3 \n",
    "np.eye(3)\n",
    "\n",
    "# Создаем неинициализированный массив из трех целочисленных\n",
    "# значений. Значениями будут произвольные, случайно оказавшиеся # в соответствующих ячейках памяти данные\n",
    "np.empty(3)"
   ]
  },
  {
   "cell_type": "markdown",
   "metadata": {},
   "source": [
    "# Работа с массивами"
   ]
  },
  {
   "cell_type": "code",
   "execution_count": 55,
   "metadata": {},
   "outputs": [
    {
     "name": "stdout",
     "output_type": "stream",
     "text": [
      "x3 ndim:  3\n",
      "x3 shape: (3, 4, 5)\n",
      "x3 size:  60\n",
      "dtype: int64\n",
      "itemsize: 8 bytes\n",
      "nbytes: 480 bytes\n"
     ]
    }
   ],
   "source": [
    "import numpy as np\n",
    "np.random.seed(0) # начальное значение для целей воспроизводимости\n",
    "x1 = np.random.randint(10, size=6) # одномерный массив \n",
    "x2 = np.random.randint(10, size=(3, 4)) # двумерный массив \n",
    "x3 = np.random.randint(10, size=(3, 4, 5)) # трехмерный массив\n",
    "\n",
    "# у каждого массива есть атрибуты\n",
    "print(\"x3 ndim: \", x3.ndim) \n",
    "print(\"x3 shape:\", x3.shape) \n",
    "print(\"x3 size: \", x3.size)\n",
    "print(\"dtype:\", x3.dtype)\n",
    "# Другие атрибуты включают itemsize, \n",
    "# выводящий размер (в байтах) каждого эле- мента массива, и nbytes,\n",
    "# выводящий полный размер массива (в байтах):\n",
    "print(\"itemsize:\", x3.itemsize, \"bytes\")\n",
    "print(\"nbytes:\", x3.nbytes, \"bytes\")\n"
   ]
  },
  {
   "cell_type": "markdown",
   "metadata": {},
   "source": [
    "### Индексация"
   ]
  },
  {
   "cell_type": "code",
   "execution_count": 65,
   "metadata": {},
   "outputs": [],
   "source": [
    "x2[0, 0]\n",
    "x2[2, -1]\n",
    "# замена элемента по индексу\n",
    "x2[0, 0] = 12"
   ]
  },
  {
   "cell_type": "markdown",
   "metadata": {},
   "source": [
    "## Срезы\n",
    "### Срезы массивов возвращают представления (views), а не копии (copies) данных массива. Поэтому если мы возьмем срез и запишем его в переменную и поменяем что то, исходный массив тоже поменятеся! Поэтому нужно польщоваться копиями\n",
    "\n",
    "   ##### Многомерные срезы задаются схожим образом, с разделением срезов запятыми. Например: x2[:2, :3]\n",
    "\n",
    "   ###### Измерения подмассивов также можно «переворачивать»: x2[::-1, ::-1]"
   ]
  },
  {
   "cell_type": "code",
   "execution_count": 67,
   "metadata": {},
   "outputs": [
    {
     "name": "stdout",
     "output_type": "stream",
     "text": [
      "[12  7  1]\n",
      "[12  5  2  4]\n",
      "[12  5  2  4]\n"
     ]
    }
   ],
   "source": [
    "x = np.arange(10) \n",
    "\n",
    "x[1::2] # каждый второй элемент, начиная с индекса 1\n",
    "x[::2] # каждый второй элемент\n",
    "x[5::-2] # каждый второй элемент в обратном порядке,начиная с индекса 5\n",
    "\n",
    "\n",
    "# МНОГОМЕРНЫЕ МАССИВЫ\n",
    "x2[:2, :3] # две строки три столбца\n",
    "x2[:3, ::2] # все строки, каждый второй столбец\n",
    "\n",
    "x2[::-1, ::-1] # перевернуть измерение\n",
    "\n",
    "print(x2[:, 0]) # первый столбец массива x2\n",
    "print(x2[0, :]) # первая строка массива x2\n",
    "print(x2[0]) # эквивалентно x2[0, :]"
   ]
  },
  {
   "cell_type": "markdown",
   "metadata": {},
   "source": [
    "## Создание копий массивов"
   ]
  },
  {
   "cell_type": "code",
   "execution_count": null,
   "metadata": {},
   "outputs": [],
   "source": [
    "x2_sub_copy = x2[:2, :2].copy() \n",
    "print(x2_sub_copy)"
   ]
  },
  {
   "cell_type": "markdown",
   "metadata": {},
   "source": [
    "## Изменение формы массивов reshape\n",
    "Еще одна удобная операция — изменение формы массивов методом reshape(). \n",
    "Например, если вам требуется поместить числа от 1 до 9 в таблицу    3 × 3, сделать это можно следующим образом:"
   ]
  },
  {
   "cell_type": "code",
   "execution_count": 69,
   "metadata": {},
   "outputs": [
    {
     "data": {
      "text/plain": [
       "array([[1, 2, 3]])"
      ]
     },
     "execution_count": 69,
     "metadata": {},
     "output_type": "execute_result"
    }
   ],
   "source": [
    "x = np.array([1, 2, 3])\n",
    "# Преобразование в вектор-строку с помощью reshape \n",
    "x.reshape((1, 3))"
   ]
  },
  {
   "cell_type": "code",
   "execution_count": 70,
   "metadata": {},
   "outputs": [
    {
     "data": {
      "text/plain": [
       "array([[1, 2, 3]])"
      ]
     },
     "execution_count": 70,
     "metadata": {},
     "output_type": "execute_result"
    }
   ],
   "source": [
    "# Преобразование в вектор-строку посредством newaxis \n",
    "x[np.newaxis, :]"
   ]
  },
  {
   "cell_type": "code",
   "execution_count": 71,
   "metadata": {},
   "outputs": [
    {
     "data": {
      "text/plain": [
       "array([[1],\n",
       "       [2],\n",
       "       [3]])"
      ]
     },
     "execution_count": 71,
     "metadata": {},
     "output_type": "execute_result"
    }
   ],
   "source": [
    "# Преобразование в вектор-столбец с помощью reshape \n",
    "x.reshape((3, 1))"
   ]
  },
  {
   "cell_type": "code",
   "execution_count": 72,
   "metadata": {},
   "outputs": [
    {
     "data": {
      "text/plain": [
       "array([[1],\n",
       "       [2],\n",
       "       [3]])"
      ]
     },
     "execution_count": 72,
     "metadata": {},
     "output_type": "execute_result"
    }
   ],
   "source": [
    "# Преобразование в вектор-столбец посредством newaxis \n",
    "x[:, np.newaxis]"
   ]
  },
  {
   "cell_type": "markdown",
   "metadata": {},
   "source": [
    "## Слияние массивов\n",
    "    - Слияние, или объединение, двух массивов в библиотеке NumPy выполняется в основном с помощью методов np.concatenate, np.vstack и np.hstack. Метод np.concatenate принимает на входе кортеж или список массивов в качестве первого аргумента:"
   ]
  },
  {
   "cell_type": "code",
   "execution_count": 74,
   "metadata": {},
   "outputs": [
    {
     "data": {
      "text/plain": [
       "array([1, 2, 3, 3, 2, 1])"
      ]
     },
     "execution_count": 74,
     "metadata": {},
     "output_type": "execute_result"
    }
   ],
   "source": [
    "x = np.array([1, 2, 3]) \n",
    "y = np.array([3, 2, 1])\n",
    "np.concatenate([x,y])"
   ]
  },
  {
   "cell_type": "code",
   "execution_count": 75,
   "metadata": {},
   "outputs": [
    {
     "name": "stdout",
     "output_type": "stream",
     "text": [
      "[ 1  2  3  3  2  1 99 99 99]\n"
     ]
    }
   ],
   "source": [
    "z = [99, 99, 99] \n",
    "print(np.concatenate([x, y, z]))\n"
   ]
  },
  {
   "cell_type": "code",
   "execution_count": 76,
   "metadata": {},
   "outputs": [
    {
     "data": {
      "text/plain": [
       "array([[1, 2, 3],\n",
       "       [4, 5, 6],\n",
       "       [1, 2, 3],\n",
       "       [4, 5, 6]])"
      ]
     },
     "execution_count": 76,
     "metadata": {},
     "output_type": "execute_result"
    }
   ],
   "source": [
    "# слияние двумерных массивов\n",
    "grid = np.array([[1, 2, 3],\n",
    "    [4, 5, 6]])\n",
    "np.concatenate([grid, grid])"
   ]
  },
  {
   "cell_type": "code",
   "execution_count": 77,
   "metadata": {},
   "outputs": [
    {
     "data": {
      "text/plain": [
       "array([[1, 2, 3, 1, 2, 3],\n",
       "       [4, 5, 6, 4, 5, 6]])"
      ]
     },
     "execution_count": 77,
     "metadata": {},
     "output_type": "execute_result"
    }
   ],
   "source": [
    "# слияние по второй оси координат (с индексом 0) \n",
    "np.concatenate([grid, grid], axis=1)"
   ]
  },
  {
   "cell_type": "markdown",
   "metadata": {},
   "source": [
    "Для работы с массивами с различающимися измерениями удобнее и понятнее использовать функции np.vstack (вертикальное объединение) и np.hstack (гори- зонтальное объединение):"
   ]
  },
  {
   "cell_type": "code",
   "execution_count": 80,
   "metadata": {},
   "outputs": [
    {
     "data": {
      "text/plain": [
       "array([[1, 2, 3],\n",
       "       [9, 8, 7],\n",
       "       [6, 5, 4]])"
      ]
     },
     "execution_count": 80,
     "metadata": {},
     "output_type": "execute_result"
    }
   ],
   "source": [
    "x = np.array([1, 2, 3]) \n",
    "grid = np.array([[9, 8, 7],\n",
    "                [6, 5, 4]])\n",
    "# Объединяет массивы по вертикали \n",
    "np.vstack([x, grid])"
   ]
  },
  {
   "cell_type": "code",
   "execution_count": 81,
   "metadata": {},
   "outputs": [
    {
     "data": {
      "text/plain": [
       "array([[ 9,  8,  7, 99],\n",
       "       [ 6,  5,  4, 99]])"
      ]
     },
     "execution_count": 81,
     "metadata": {},
     "output_type": "execute_result"
    }
   ],
   "source": [
    "# Объединяет массивы по горизонтали \n",
    "y = np.array([[99],\n",
    "             [99]]) \n",
    "np.hstack([grid, y])\n"
   ]
  },
  {
   "cell_type": "markdown",
   "metadata": {},
   "source": [
    "## Разбиение массивов\n",
    "Противоположностью слияния является разбиение, выполняемое с помощью функций np.split, np.hsplit и np.vsplit. Каждой из них необходимо передавать список индексов, задающих точки раздела:"
   ]
  },
  {
   "cell_type": "code",
   "execution_count": 88,
   "metadata": {},
   "outputs": [
    {
     "name": "stdout",
     "output_type": "stream",
     "text": [
      "[1 2 3] [99 99] [3 2 1]\n"
     ]
    }
   ],
   "source": [
    "x = [1, 2, 3, 99, 99, 3, 2, 1] \n",
    "x1, x2, x3 = np.split(x, [3, 5])\n",
    "print(x1, x2, x3)"
   ]
  },
  {
   "cell_type": "code",
   "execution_count": 89,
   "metadata": {},
   "outputs": [
    {
     "data": {
      "text/plain": [
       "array([[ 0,  1,  2,  3],\n",
       "       [ 4,  5,  6,  7],\n",
       "       [ 8,  9, 10, 11],\n",
       "       [12, 13, 14, 15]])"
      ]
     },
     "execution_count": 89,
     "metadata": {},
     "output_type": "execute_result"
    }
   ],
   "source": [
    "grid = np.arange(16).reshape((4, 4)) \n",
    "grid\n"
   ]
  },
  {
   "cell_type": "code",
   "execution_count": 91,
   "metadata": {},
   "outputs": [
    {
     "name": "stdout",
     "output_type": "stream",
     "text": [
      "[[0 1 2 3]\n",
      " [4 5 6 7]]\n",
      "[[ 8  9 10 11]\n",
      " [12 13 14 15]]\n"
     ]
    }
   ],
   "source": [
    "upper, lower = np.vsplit(grid, [2])\n",
    "print(upper) \n",
    "print(lower)"
   ]
  },
  {
   "cell_type": "code",
   "execution_count": 92,
   "metadata": {},
   "outputs": [
    {
     "name": "stdout",
     "output_type": "stream",
     "text": [
      "[[ 0  1]\n",
      " [ 4  5]\n",
      " [ 8  9]\n",
      " [12 13]]\n",
      "[[ 2  3]\n",
      " [ 6  7]\n",
      " [10 11]\n",
      " [14 15]]\n"
     ]
    }
   ],
   "source": [
    "left, right = np.hsplit(grid, [2]) \n",
    "print(left)\n",
    "print(right)"
   ]
  },
  {
   "cell_type": "markdown",
   "metadata": {},
   "source": [
    "# Выполнение вычислений над массивами библиотеки NumPy: универсальные функции\n"
   ]
  },
  {
   "cell_type": "markdown",
   "metadata": {},
   "source": [
    "Выполнение вычислений над массивами библиотеки NumPy может быть очень быстрым и очень медленным. Ключ к их ускорению — использование вектори- зованных операций, обычно реализуемых посредством универсальных функций (universal functions, ufuncs) языка Python. В данном разделе будет обосновано, почему универсальные функции библиотеки NumPy необходимы и почему они могут намного ускорить выполнение повторяющихся вычислений над элементами массивов, а также познакомим вас с множеством наиболее распространенных и по- лезных универсальных арифметических функций из библиотеки NumPy.\n",
    "\n",
    "### Чтобы операции быле быстрее лучше выполнять команды для массивов, а не для элементов\n",
    "пример-"
   ]
  },
  {
   "cell_type": "code",
   "execution_count": null,
   "metadata": {},
   "outputs": [],
   "source": [
    "print(compute_reciprocals(values)) \n",
    "print(1.0 / values) # так не нужно!!!\n",
    "\n",
    "# надо так!\n",
    "np.arange(5) / np.arange(1, 6) # операция с массивами\n",
    "x = np.arange(9).reshape((3, 3)) \n",
    "2 ** x"
   ]
  },
  {
   "cell_type": "code",
   "execution_count": null,
   "metadata": {},
   "outputs": [],
   "source": [
    "x = np.arange(4)\n",
    "print(\"x = \",x)\n",
    "print(\"x + 5\", x+5)\n",
    "print(\"x - 5\", x-5)\n",
    "print(\"x * 2\", x*2)\n",
    "print(\"x / 2 =\", x/2)\n",
    "print(\"x // 2 =\", x // 2) # деление с округлением в меньшую сторону\n",
    "\n",
    "\n",
    "#Существует также унарная универсальная функция для операции изменения знака, \n",
    "# оператор ** для возведения в степень и оператор % для деления по модулю:\n",
    "\n",
    "print(\"-x = \", -x)\n",
    "print(\"x ** 2 = \", x ** 2)\n",
    "print(\"x % 2 = \", x % 2)\n",
    "\n",
    "# Дополнительно эти операции можно комбинировать любыми способами \n",
    "# с соблюением стандартного приоритета выполнения операций:"
   ]
  },
  {
   "cell_type": "code",
   "execution_count": null,
   "metadata": {},
   "outputs": [],
   "source": []
  }
 ],
 "metadata": {
  "kernelspec": {
   "display_name": "Python 3",
   "language": "python",
   "name": "python3"
  },
  "language_info": {
   "codemirror_mode": {
    "name": "ipython",
    "version": 3
   },
   "file_extension": ".py",
   "mimetype": "text/x-python",
   "name": "python",
   "nbconvert_exporter": "python",
   "pygments_lexer": "ipython3",
   "version": "3.8.2"
  }
 },
 "nbformat": 4,
 "nbformat_minor": 4
}
